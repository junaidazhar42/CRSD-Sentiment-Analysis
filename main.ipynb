{
 "cells": [
  {
   "cell_type": "code",
   "execution_count": 1,
   "id": "2ed83f5e-0da4-440a-a662-3d9eb266943b",
   "metadata": {},
   "outputs": [],
   "source": [
    "# Importing necessary libraries\n",
    "\n",
    "import numpy as np\n",
    "import pandas as pd\n",
    "import seaborn as sns\n",
    "import matplotlib.pyplot as plt\n",
    "\n",
    "import spacy\n",
    "import emoji\n",
    "\n",
    "from sklearn.model_selection import train_test_split\n",
    "from imblearn.pipeline import Pipeline\n",
    "from sklearn.feature_extraction.text import TfidfVectorizer\n",
    "from sklearn.feature_selection import SelectKBest, chi2\n",
    "from sklearn.model_selection import StratifiedKFold, RandomizedSearchCV, GridSearchCV\n",
    "from sklearn.linear_model import LogisticRegression\n",
    "from sklearn.naive_bayes import MultinomialNB\n",
    "from sklearn.tree import DecisionTreeClassifier\n",
    "from sklearn.ensemble import RandomForestClassifier\n",
    "from sklearn.metrics import classification_report, confusion_matrix, accuracy_score\n",
    "\n",
    "import os \n",
    "import joblib"
   ]
  },
  {
   "cell_type": "code",
   "execution_count": 2,
   "id": "078ae1c3-8838-44cd-9aba-cccb992cd909",
   "metadata": {},
   "outputs": [],
   "source": [
    "df = pd.read_csv(\"data.csv\")"
   ]
  },
  {
   "cell_type": "code",
   "execution_count": 3,
   "id": "3c81a0b1-528c-4465-bcec-b85cba0a5c3a",
   "metadata": {},
   "outputs": [
    {
     "data": {
      "text/html": [
       "<div>\n",
       "<style scoped>\n",
       "    .dataframe tbody tr th:only-of-type {\n",
       "        vertical-align: middle;\n",
       "    }\n",
       "\n",
       "    .dataframe tbody tr th {\n",
       "        vertical-align: top;\n",
       "    }\n",
       "\n",
       "    .dataframe thead th {\n",
       "        text-align: right;\n",
       "    }\n",
       "</style>\n",
       "<table border=\"1\" class=\"dataframe\">\n",
       "  <thead>\n",
       "    <tr style=\"text-align: right;\">\n",
       "      <th></th>\n",
       "      <th>review</th>\n",
       "      <th>model</th>\n",
       "      <th>sentiment</th>\n",
       "    </tr>\n",
       "  </thead>\n",
       "  <tbody>\n",
       "    <tr>\n",
       "      <th>0</th>\n",
       "      <td>The movie was a complete snoozefest.  I regret...</td>\n",
       "      <td>Gemini-1.5-Flash</td>\n",
       "      <td>negative</td>\n",
       "    </tr>\n",
       "    <tr>\n",
       "      <th>1</th>\n",
       "      <td>Seriously, the worst venue I've ever been to. ...</td>\n",
       "      <td>Gemini-1.5-Flash</td>\n",
       "      <td>negative</td>\n",
       "    </tr>\n",
       "    <tr>\n",
       "      <th>2</th>\n",
       "      <td>This event was so poorly organized, it was a j...</td>\n",
       "      <td>Gemini-1.5-Flash</td>\n",
       "      <td>negative</td>\n",
       "    </tr>\n",
       "    <tr>\n",
       "      <th>3</th>\n",
       "      <td>What a disaster of a movie!  The acting was aw...</td>\n",
       "      <td>Gemini-1.5-Flash</td>\n",
       "      <td>negative</td>\n",
       "    </tr>\n",
       "    <tr>\n",
       "      <th>4</th>\n",
       "      <td>I wouldn't recommend this venue to my worst en...</td>\n",
       "      <td>Gemini-1.5-Flash</td>\n",
       "      <td>negative</td>\n",
       "    </tr>\n",
       "  </tbody>\n",
       "</table>\n",
       "</div>"
      ],
      "text/plain": [
       "                                              review             model  \\\n",
       "0  The movie was a complete snoozefest.  I regret...  Gemini-1.5-Flash   \n",
       "1  Seriously, the worst venue I've ever been to. ...  Gemini-1.5-Flash   \n",
       "2  This event was so poorly organized, it was a j...  Gemini-1.5-Flash   \n",
       "3  What a disaster of a movie!  The acting was aw...  Gemini-1.5-Flash   \n",
       "4  I wouldn't recommend this venue to my worst en...  Gemini-1.5-Flash   \n",
       "\n",
       "  sentiment  \n",
       "0  negative  \n",
       "1  negative  \n",
       "2  negative  \n",
       "3  negative  \n",
       "4  negative  "
      ]
     },
     "execution_count": 3,
     "metadata": {},
     "output_type": "execute_result"
    }
   ],
   "source": [
    "df.head()"
   ]
  },
  {
   "cell_type": "code",
   "execution_count": 4,
   "id": "fc86cc61-4be4-45e3-a655-8d868df66f81",
   "metadata": {},
   "outputs": [
    {
     "name": "stdout",
     "output_type": "stream",
     "text": [
      "Shape of the dataset: (8236, 3)\n"
     ]
    }
   ],
   "source": [
    "print(f\"Shape of the dataset: {df.shape}\")"
   ]
  },
  {
   "cell_type": "code",
   "execution_count": 5,
   "id": "4dcbf498-3302-4f95-bdba-cfd96b6355e9",
   "metadata": {},
   "outputs": [
    {
     "name": "stdout",
     "output_type": "stream",
     "text": [
      "Columns of the dataset: ['review' 'model' 'sentiment']\n"
     ]
    }
   ],
   "source": [
    "print(f\"Columns of the dataset: {df.columns.values}\")"
   ]
  },
  {
   "cell_type": "code",
   "execution_count": 6,
   "id": "8a73ab8f-bf72-4a32-91cb-42211a683920",
   "metadata": {},
   "outputs": [
    {
     "name": "stdout",
     "output_type": "stream",
     "text": [
      "Data Type of columns: \n"
     ]
    },
    {
     "data": {
      "text/plain": [
       "review       object\n",
       "model        object\n",
       "sentiment    object\n",
       "dtype: object"
      ]
     },
     "execution_count": 6,
     "metadata": {},
     "output_type": "execute_result"
    }
   ],
   "source": [
    "print(\"Data Type of columns: \")\n",
    "df.dtypes"
   ]
  },
  {
   "cell_type": "code",
   "execution_count": 7,
   "id": "6981defd-c7fb-4ddf-a893-a98f461c5e3c",
   "metadata": {},
   "outputs": [
    {
     "name": "stdout",
     "output_type": "stream",
     "text": [
      "<class 'pandas.core.frame.DataFrame'>\n",
      "RangeIndex: 8236 entries, 0 to 8235\n",
      "Data columns (total 3 columns):\n",
      " #   Column     Non-Null Count  Dtype \n",
      "---  ------     --------------  ----- \n",
      " 0   review     8236 non-null   object\n",
      " 1   model      8234 non-null   object\n",
      " 2   sentiment  8234 non-null   object\n",
      "dtypes: object(3)\n",
      "memory usage: 193.2+ KB\n"
     ]
    }
   ],
   "source": [
    "df.info()"
   ]
  },
  {
   "cell_type": "code",
   "execution_count": 8,
   "id": "33cbcd9a-81b5-44c9-976a-a9219b937ae2",
   "metadata": {},
   "outputs": [
    {
     "data": {
      "text/html": [
       "<div>\n",
       "<style scoped>\n",
       "    .dataframe tbody tr th:only-of-type {\n",
       "        vertical-align: middle;\n",
       "    }\n",
       "\n",
       "    .dataframe tbody tr th {\n",
       "        vertical-align: top;\n",
       "    }\n",
       "\n",
       "    .dataframe thead th {\n",
       "        text-align: right;\n",
       "    }\n",
       "</style>\n",
       "<table border=\"1\" class=\"dataframe\">\n",
       "  <thead>\n",
       "    <tr style=\"text-align: right;\">\n",
       "      <th></th>\n",
       "      <th>review</th>\n",
       "      <th>model</th>\n",
       "      <th>sentiment</th>\n",
       "    </tr>\n",
       "  </thead>\n",
       "  <tbody>\n",
       "    <tr>\n",
       "      <th>count</th>\n",
       "      <td>8236</td>\n",
       "      <td>8234</td>\n",
       "      <td>8234</td>\n",
       "    </tr>\n",
       "    <tr>\n",
       "      <th>unique</th>\n",
       "      <td>5678</td>\n",
       "      <td>6</td>\n",
       "      <td>3</td>\n",
       "    </tr>\n",
       "    <tr>\n",
       "      <th>top</th>\n",
       "      <td>This ad was pretty standard. The product was s...</td>\n",
       "      <td>Gemini-2.0-Flash-Lite</td>\n",
       "      <td>positive</td>\n",
       "    </tr>\n",
       "    <tr>\n",
       "      <th>freq</th>\n",
       "      <td>60</td>\n",
       "      <td>2853</td>\n",
       "      <td>3110</td>\n",
       "    </tr>\n",
       "  </tbody>\n",
       "</table>\n",
       "</div>"
      ],
      "text/plain": [
       "                                                   review  \\\n",
       "count                                                8236   \n",
       "unique                                               5678   \n",
       "top     This ad was pretty standard. The product was s...   \n",
       "freq                                                   60   \n",
       "\n",
       "                        model sentiment  \n",
       "count                    8234      8234  \n",
       "unique                      6         3  \n",
       "top     Gemini-2.0-Flash-Lite  positive  \n",
       "freq                     2853      3110  "
      ]
     },
     "execution_count": 8,
     "metadata": {},
     "output_type": "execute_result"
    }
   ],
   "source": [
    "df.describe()"
   ]
  },
  {
   "cell_type": "markdown",
   "id": "86773221-f0bb-44d6-ba9a-d3f8c8dfe789",
   "metadata": {},
   "source": [
    "#### Data Preprocessing"
   ]
  },
  {
   "cell_type": "code",
   "execution_count": 10,
   "id": "83dbe2e4-d5ae-4976-b993-735b56da0465",
   "metadata": {},
   "outputs": [],
   "source": [
    "# Creating a copy of the original dataset. \n",
    "df_copy = df.copy()"
   ]
  },
  {
   "cell_type": "code",
   "execution_count": 11,
   "id": "0a1d8e5f-fa93-45b6-af8f-873fcadb87d6",
   "metadata": {},
   "outputs": [
    {
     "data": {
      "text/plain": [
       "review       object\n",
       "model        object\n",
       "sentiment    object\n",
       "dtype: object"
      ]
     },
     "execution_count": 11,
     "metadata": {},
     "output_type": "execute_result"
    }
   ],
   "source": [
    "df_copy.dtypes"
   ]
  },
  {
   "cell_type": "markdown",
   "id": "9b706b6c-7d87-4177-aabf-8220a4224125",
   "metadata": {},
   "source": [
    "The 'review' column can be changed to string datatype."
   ]
  },
  {
   "cell_type": "code",
   "execution_count": 13,
   "id": "2d92fce0-917a-4b72-89ac-9605e00b313f",
   "metadata": {},
   "outputs": [],
   "source": [
    "# Changing 'review' column to string datatype.\n",
    "df_copy['review'] = df_copy['review'].astype('string')"
   ]
  },
  {
   "cell_type": "code",
   "execution_count": 14,
   "id": "8670b3cb-35b0-4d9b-a711-f18ab5e6c444",
   "metadata": {},
   "outputs": [
    {
     "data": {
      "text/plain": [
       "review       string[python]\n",
       "model                object\n",
       "sentiment            object\n",
       "dtype: object"
      ]
     },
     "execution_count": 14,
     "metadata": {},
     "output_type": "execute_result"
    }
   ],
   "source": [
    "df_copy.dtypes"
   ]
  },
  {
   "cell_type": "code",
   "execution_count": 15,
   "id": "8951d807-5412-44be-ad38-2e6d63bfecec",
   "metadata": {},
   "outputs": [
    {
     "data": {
      "text/plain": [
       "review       0\n",
       "model        2\n",
       "sentiment    2\n",
       "dtype: int64"
      ]
     },
     "execution_count": 15,
     "metadata": {},
     "output_type": "execute_result"
    }
   ],
   "source": [
    "# Checking null values\n",
    "df_copy.isnull().sum()"
   ]
  },
  {
   "cell_type": "code",
   "execution_count": 16,
   "id": "363a969d-25ca-4555-b265-f1d8934ec7ad",
   "metadata": {},
   "outputs": [],
   "source": [
    "df_copy = df_copy.dropna()"
   ]
  },
  {
   "cell_type": "code",
   "execution_count": 17,
   "id": "01fd41a7-dd87-4738-8ed1-09f52582ea8b",
   "metadata": {},
   "outputs": [
    {
     "data": {
      "text/plain": [
       "review       0\n",
       "model        0\n",
       "sentiment    0\n",
       "dtype: int64"
      ]
     },
     "execution_count": 17,
     "metadata": {},
     "output_type": "execute_result"
    }
   ],
   "source": [
    "df_copy.isnull().sum()"
   ]
  },
  {
   "cell_type": "code",
   "execution_count": 18,
   "id": "108e9dd0-434b-4630-a654-f9c88797532a",
   "metadata": {},
   "outputs": [
    {
     "data": {
      "text/plain": [
       "False    68.970124\n",
       "True     31.029876\n",
       "Name: count, dtype: float64"
      ]
     },
     "execution_count": 18,
     "metadata": {},
     "output_type": "execute_result"
    }
   ],
   "source": [
    "# Checking duplicates\n",
    "df_copy.duplicated().value_counts()/len(df_copy) * 100"
   ]
  },
  {
   "cell_type": "markdown",
   "id": "caf803bd-4631-4bd5-9219-08686962dccd",
   "metadata": {},
   "source": [
    "Dropping duplicates results in 31% loss of data so it's better to keep them."
   ]
  },
  {
   "cell_type": "markdown",
   "id": "5d6ae11d-56a0-46b8-9450-b41275473d53",
   "metadata": {},
   "source": [
    "#### Exploratory Data Analysis"
   ]
  },
  {
   "cell_type": "code",
   "execution_count": 21,
   "id": "637bbcf6-c710-425f-bc42-c5e65205a73e",
   "metadata": {},
   "outputs": [
    {
     "data": {
      "text/plain": [
       "array(['review', 'model', 'sentiment'], dtype=object)"
      ]
     },
     "execution_count": 21,
     "metadata": {},
     "output_type": "execute_result"
    }
   ],
   "source": [
    "df_copy.columns.values"
   ]
  },
  {
   "cell_type": "code",
   "execution_count": 22,
   "id": "50c79d0e-be90-4023-b805-49d25c6d4220",
   "metadata": {},
   "outputs": [
    {
     "data": {
      "text/plain": [
       "model\n",
       "Gemini-2.0-Flash-Lite    2853\n",
       "GPT-5-mini               1661\n",
       "GPT-4o-Mini              1507\n",
       "Gemini-1.5-Flash         1194\n",
       "Llama-3-8b-T              756\n",
       "Mixtral-8x7b              263\n",
       "Name: count, dtype: int64"
      ]
     },
     "execution_count": 22,
     "metadata": {},
     "output_type": "execute_result"
    }
   ],
   "source": [
    "# Exploring 'model' \n",
    "\n",
    "df_copy['model'].value_counts()"
   ]
  },
  {
   "cell_type": "code",
   "execution_count": 23,
   "id": "5268391a-0334-44a2-9ae2-dfebdee8f6c1",
   "metadata": {},
   "outputs": [
    {
     "data": {
      "image/png": "[encoded data removed]",
      "text/plain": [
       "<Figure size 600x400 with 1 Axes>"
      ]
     },
     "metadata": {},
     "output_type": "display_data"
    }
   ],
   "source": [
    "df_copy['model'].value_counts().plot(kind = 'bar', figsize = (6,4), color = 'skyblue')\n",
    "plt.title(\"AI Language Model Distribution\")\n",
    "plt.xlabel(\"Model\")\n",
    "plt.ylabel(\"Count\")\n",
    "plt.xticks(rotation = 45)\n",
    "plt.show()"
   ]
  },
  {
   "cell_type": "code",
   "execution_count": 24,
   "id": "c34152b9-f61f-4499-a32e-ad0970a0eac5",
   "metadata": {},
   "outputs": [
    {
     "data": {
      "text/plain": [
       "sentiment\n",
       "positive    3110\n",
       "negative    2663\n",
       "neutral     2461\n",
       "Name: count, dtype: int64"
      ]
     },
     "execution_count": 24,
     "metadata": {},
     "output_type": "execute_result"
    }
   ],
   "source": [
    "# Exploring 'sentiment'\n",
    "\n",
    "df_copy['sentiment'].value_counts()"
   ]
  },
  {
   "cell_type": "code",
   "execution_count": 25,
   "id": "5a2aac8e-d723-4664-99dc-7200098777f2",
   "metadata": {},
   "outputs": [
    {
     "data": {
      "text/plain": [
       "sentiment\n",
       "positive    37.770221\n",
       "negative    32.341511\n",
       "neutral     29.888268\n",
       "Name: count, dtype: float64"
      ]
     },
     "execution_count": 25,
     "metadata": {},
     "output_type": "execute_result"
    }
   ],
   "source": [
    "df_copy['sentiment'].value_counts()/len(df_copy) * 100"
   ]
  },
  {
   "cell_type": "code",
   "execution_count": 26,
   "id": "cf757469-d307-4615-ace6-adf1ad2ccb44",
   "metadata": {},
   "outputs": [
    {
     "data": {
      "image/png": "[encoded data removed]",
      "text/plain": [
       "<Figure size 600x400 with 1 Axes>"
      ]
     },
     "metadata": {},
     "output_type": "display_data"
    }
   ],
   "source": [
    "df_copy['sentiment'].value_counts().plot(kind = 'bar', figsize = (6,4), color = 'skyblue')\n",
    "plt.title(\"Sentiment Distribution\")\n",
    "plt.xlabel(\"Sentiment\")\n",
    "plt.ylabel(\"Count\")\n",
    "plt.xticks(rotation = 360)\n",
    "plt.show()"
   ]
  },
  {
   "cell_type": "markdown",
   "id": "44b1ec9e-e7d3-438c-94c0-fc141e589366",
   "metadata": {},
   "source": [
    "The sentiment distribution is well-balanced, so it doesn't require any kind of under or over sampling. "
   ]
  },
  {
   "cell_type": "code",
   "execution_count": 28,
   "id": "1d7c031a-8917-4852-bc86-37dc50d0b494",
   "metadata": {},
   "outputs": [
    {
     "data": {
      "image/png": "[encoded data removed]",
      "text/plain": [
       "<Figure size 1200x600 with 1 Axes>"
      ]
     },
     "metadata": {},
     "output_type": "display_data"
    }
   ],
   "source": [
    "plt.figure(figsize = (12, 6))\n",
    "sns.countplot(data = df_copy, x = 'model', hue = 'sentiment', palette = 'viridis')\n",
    "plt.title(\"Sentiment Distribution by Model\")\n",
    "plt.xlabel(\"Model\")\n",
    "plt.ylabel(\"Count\")\n",
    "plt.legend(title = 'Sentiment')\n",
    "plt.show()"
   ]
  },
  {
   "cell_type": "markdown",
   "id": "d9100546-f491-4f15-9640-60c0f9e0f711",
   "metadata": {},
   "source": [
    "Among all the AI language models, Gemini-2.0-Flash-Lite gave an overall well-balanced sentiment distribution of positives and negatives. GPT-5-mini gave the most positive reviews and very less negative and neutral reviews. The least reviews were given by Mixtral-8x7b."
   ]
  },
  {
   "cell_type": "markdown",
   "id": "c35ea277-5973-4a02-b478-361ba3e99f38",
   "metadata": {},
   "source": [
    "#### Text Preprocessing"
   ]
  },
  {
   "cell_type": "code",
   "execution_count": 31,
   "id": "683e4f5d-b523-4cdb-8825-eaec3cf01c91",
   "metadata": {},
   "outputs": [],
   "source": [
    "# Converting text to reviews\n",
    "\n",
    "# Tokenization, stopword removal and lemmatization on review text\n",
    "\n",
    "# Loading spaCy large English model \n",
    "nlp = spacy.load(\"en_core_web_lg\")\n",
    "\n",
    "# Function to tokenize, remove stopwords/punctuations and lemmatize text\n",
    "def preprocess(text):\n",
    "    \n",
    "    # Remove emoticons\n",
    "    text = emoji.replace_emoji(text, replace='') \n",
    "\n",
    "    # spaCy tokenization and cleaning\n",
    "    doc = nlp(text)\n",
    "    filtered_tokens = []\n",
    "    for token in doc:\n",
    "        if token.is_stop or token.is_punct: # Removes stopwords and punctuations\n",
    "            continue\n",
    "        else:\n",
    "            filtered_tokens.append(token.lemma_)\n",
    "    return ' '.join(filtered_tokens)"
   ]
  },
  {
   "cell_type": "code",
   "execution_count": 32,
   "id": "203b6ac3-cec8-464a-964d-70d38e344658",
   "metadata": {},
   "outputs": [],
   "source": [
    "df_copy['preprocessed_text'] = df_copy['review'].apply(lambda x: preprocess(x))"
   ]
  },
  {
   "cell_type": "code",
   "execution_count": 33,
   "id": "a1d5a428-e602-4b6d-b126-14388d0cdc88",
   "metadata": {},
   "outputs": [
    {
     "data": {
      "text/html": [
       "<div>\n",
       "<style scoped>\n",
       "    .dataframe tbody tr th:only-of-type {\n",
       "        vertical-align: middle;\n",
       "    }\n",
       "\n",
       "    .dataframe tbody tr th {\n",
       "        vertical-align: top;\n",
       "    }\n",
       "\n",
       "    .dataframe thead th {\n",
       "        text-align: right;\n",
       "    }\n",
       "</style>\n",
       "<table border=\"1\" class=\"dataframe\">\n",
       "  <thead>\n",
       "    <tr style=\"text-align: right;\">\n",
       "      <th></th>\n",
       "      <th>review</th>\n",
       "      <th>model</th>\n",
       "      <th>sentiment</th>\n",
       "      <th>preprocessed_text</th>\n",
       "    </tr>\n",
       "  </thead>\n",
       "  <tbody>\n",
       "    <tr>\n",
       "      <th>0</th>\n",
       "      <td>The movie was a complete snoozefest.  I regret...</td>\n",
       "      <td>Gemini-1.5-Flash</td>\n",
       "      <td>negative</td>\n",
       "      <td>movie complete snoozefest   regret second   to...</td>\n",
       "    </tr>\n",
       "    <tr>\n",
       "      <th>1</th>\n",
       "      <td>Seriously, the worst venue I've ever been to. ...</td>\n",
       "      <td>Gemini-1.5-Flash</td>\n",
       "      <td>negative</td>\n",
       "      <td>seriously bad venue   sound terrible seat unco...</td>\n",
       "    </tr>\n",
       "    <tr>\n",
       "      <th>2</th>\n",
       "      <td>This event was so poorly organized, it was a j...</td>\n",
       "      <td>Gemini-1.5-Flash</td>\n",
       "      <td>negative</td>\n",
       "      <td>event poorly organize joke   leave early feeli...</td>\n",
       "    </tr>\n",
       "    <tr>\n",
       "      <th>3</th>\n",
       "      <td>What a disaster of a movie!  The acting was aw...</td>\n",
       "      <td>Gemini-1.5-Flash</td>\n",
       "      <td>negative</td>\n",
       "      <td>disaster movie   acting awful plot nonsensical...</td>\n",
       "    </tr>\n",
       "    <tr>\n",
       "      <th>4</th>\n",
       "      <td>I wouldn't recommend this venue to my worst en...</td>\n",
       "      <td>Gemini-1.5-Flash</td>\n",
       "      <td>negative</td>\n",
       "      <td>recommend venue bad enemy   dirty cramped over...</td>\n",
       "    </tr>\n",
       "  </tbody>\n",
       "</table>\n",
       "</div>"
      ],
      "text/plain": [
       "                                              review             model  \\\n",
       "0  The movie was a complete snoozefest.  I regret...  Gemini-1.5-Flash   \n",
       "1  Seriously, the worst venue I've ever been to. ...  Gemini-1.5-Flash   \n",
       "2  This event was so poorly organized, it was a j...  Gemini-1.5-Flash   \n",
       "3  What a disaster of a movie!  The acting was aw...  Gemini-1.5-Flash   \n",
       "4  I wouldn't recommend this venue to my worst en...  Gemini-1.5-Flash   \n",
       "\n",
       "  sentiment                                  preprocessed_text  \n",
       "0  negative  movie complete snoozefest   regret second   to...  \n",
       "1  negative  seriously bad venue   sound terrible seat unco...  \n",
       "2  negative  event poorly organize joke   leave early feeli...  \n",
       "3  negative  disaster movie   acting awful plot nonsensical...  \n",
       "4  negative  recommend venue bad enemy   dirty cramped over...  "
      ]
     },
     "execution_count": 33,
     "metadata": {},
     "output_type": "execute_result"
    }
   ],
   "source": [
    "df_copy.head()"
   ]
  },
  {
   "cell_type": "code",
   "execution_count": 34,
   "id": "4151291e-2b29-4e47-84b4-5191c8266e1d",
   "metadata": {},
   "outputs": [
    {
     "name": "stdout",
     "output_type": "stream",
     "text": [
      "Before: The movie was a complete snoozefest.  I regretted every second.  Total waste of money.\n",
      "After: movie complete snoozefest   regret second   total waste money\n",
      "\n",
      "\n",
      "Before: The movie was slow, boring, and had terrible acting.\n",
      "After: movie slow boring terrible acting\n",
      "\n",
      "\n",
      "Before: This event was underwhelming and disappointing.  I expected so much more.\n",
      "After: event underwhelming disappointing   expect\n"
     ]
    }
   ],
   "source": [
    "# A few examples of preprocessed reviews\n",
    "\n",
    "print(f\"Before:\", df_copy['review'][0])\n",
    "print(f\"After:\", df_copy['preprocessed_text'][0])\n",
    "print(\"\\n\")\n",
    "print(f\"Before:\", df_copy['review'][45])\n",
    "print(f\"After:\", df_copy['preprocessed_text'][45])\n",
    "print(\"\\n\")\n",
    "print(f\"Before:\", df_copy['review'][130])\n",
    "print(f\"After:\", df_copy['preprocessed_text'][130])"
   ]
  },
  {
   "cell_type": "code",
   "execution_count": 35,
   "id": "49c40a06-af1b-454a-a1f2-609481d6621d",
   "metadata": {},
   "outputs": [],
   "source": [
    "# Changing sentiment i.e. positive = 1, negative = -1, and neutral = 0\n",
    "df_copy['sentiment_label'] = df_copy['sentiment'].map({\n",
    "    'positive': 1,\n",
    "    'negative': -1,\n",
    "    'neutral': 0\n",
    "})"
   ]
  },
  {
   "cell_type": "code",
   "execution_count": 36,
   "id": "17382dd2-376e-4bf3-989a-7aebdc40c4be",
   "metadata": {},
   "outputs": [
    {
     "data": {
      "text/html": [
       "<div>\n",
       "<style scoped>\n",
       "    .dataframe tbody tr th:only-of-type {\n",
       "        vertical-align: middle;\n",
       "    }\n",
       "\n",
       "    .dataframe tbody tr th {\n",
       "        vertical-align: top;\n",
       "    }\n",
       "\n",
       "    .dataframe thead th {\n",
       "        text-align: right;\n",
       "    }\n",
       "</style>\n",
       "<table border=\"1\" class=\"dataframe\">\n",
       "  <thead>\n",
       "    <tr style=\"text-align: right;\">\n",
       "      <th></th>\n",
       "      <th>review</th>\n",
       "      <th>model</th>\n",
       "      <th>sentiment</th>\n",
       "      <th>preprocessed_text</th>\n",
       "      <th>sentiment_label</th>\n",
       "    </tr>\n",
       "  </thead>\n",
       "  <tbody>\n",
       "    <tr>\n",
       "      <th>0</th>\n",
       "      <td>The movie was a complete snoozefest.  I regret...</td>\n",
       "      <td>Gemini-1.5-Flash</td>\n",
       "      <td>negative</td>\n",
       "      <td>movie complete snoozefest   regret second   to...</td>\n",
       "      <td>-1</td>\n",
       "    </tr>\n",
       "    <tr>\n",
       "      <th>1</th>\n",
       "      <td>Seriously, the worst venue I've ever been to. ...</td>\n",
       "      <td>Gemini-1.5-Flash</td>\n",
       "      <td>negative</td>\n",
       "      <td>seriously bad venue   sound terrible seat unco...</td>\n",
       "      <td>-1</td>\n",
       "    </tr>\n",
       "    <tr>\n",
       "      <th>2</th>\n",
       "      <td>This event was so poorly organized, it was a j...</td>\n",
       "      <td>Gemini-1.5-Flash</td>\n",
       "      <td>negative</td>\n",
       "      <td>event poorly organize joke   leave early feeli...</td>\n",
       "      <td>-1</td>\n",
       "    </tr>\n",
       "    <tr>\n",
       "      <th>3</th>\n",
       "      <td>What a disaster of a movie!  The acting was aw...</td>\n",
       "      <td>Gemini-1.5-Flash</td>\n",
       "      <td>negative</td>\n",
       "      <td>disaster movie   acting awful plot nonsensical...</td>\n",
       "      <td>-1</td>\n",
       "    </tr>\n",
       "    <tr>\n",
       "      <th>4</th>\n",
       "      <td>I wouldn't recommend this venue to my worst en...</td>\n",
       "      <td>Gemini-1.5-Flash</td>\n",
       "      <td>negative</td>\n",
       "      <td>recommend venue bad enemy   dirty cramped over...</td>\n",
       "      <td>-1</td>\n",
       "    </tr>\n",
       "  </tbody>\n",
       "</table>\n",
       "</div>"
      ],
      "text/plain": [
       "                                              review             model  \\\n",
       "0  The movie was a complete snoozefest.  I regret...  Gemini-1.5-Flash   \n",
       "1  Seriously, the worst venue I've ever been to. ...  Gemini-1.5-Flash   \n",
       "2  This event was so poorly organized, it was a j...  Gemini-1.5-Flash   \n",
       "3  What a disaster of a movie!  The acting was aw...  Gemini-1.5-Flash   \n",
       "4  I wouldn't recommend this venue to my worst en...  Gemini-1.5-Flash   \n",
       "\n",
       "  sentiment                                  preprocessed_text  \\\n",
       "0  negative  movie complete snoozefest   regret second   to...   \n",
       "1  negative  seriously bad venue   sound terrible seat unco...   \n",
       "2  negative  event poorly organize joke   leave early feeli...   \n",
       "3  negative  disaster movie   acting awful plot nonsensical...   \n",
       "4  negative  recommend venue bad enemy   dirty cramped over...   \n",
       "\n",
       "   sentiment_label  \n",
       "0               -1  \n",
       "1               -1  \n",
       "2               -1  \n",
       "3               -1  \n",
       "4               -1  "
      ]
     },
     "execution_count": 36,
     "metadata": {},
     "output_type": "execute_result"
    }
   ],
   "source": [
    "df_copy.head()"
   ]
  },
  {
   "cell_type": "code",
   "execution_count": 37,
   "id": "be4e87e2-af8b-4bb1-9dc9-de769a9c12a1",
   "metadata": {},
   "outputs": [
    {
     "data": {
      "text/plain": [
       "sentiment_label\n",
       " 1    3110\n",
       "-1    2663\n",
       " 0    2461\n",
       "Name: count, dtype: int64"
      ]
     },
     "execution_count": 37,
     "metadata": {},
     "output_type": "execute_result"
    }
   ],
   "source": [
    "df_copy['sentiment_label'].value_counts()"
   ]
  },
  {
   "cell_type": "markdown",
   "id": "c4dd3ab6-7652-4618-89d3-98bad81fe833",
   "metadata": {},
   "source": [
    "#### Machine Learning"
   ]
  },
  {
   "cell_type": "code",
   "execution_count": 39,
   "id": "2453de77-5bbe-4649-89a7-3e5df9728864",
   "metadata": {},
   "outputs": [],
   "source": [
    "# train-test-split\n",
    "\n",
    "X_train, X_test, y_train, y_test = train_test_split(\n",
    "    df_copy.preprocessed_text,\n",
    "    df_copy.sentiment_label,\n",
    "    test_size = 0.20,\n",
    "    random_state = 2002,\n",
    "    stratify = df_copy.sentiment_label\n",
    ")"
   ]
  },
  {
   "cell_type": "code",
   "execution_count": 40,
   "id": "d3fcc523-8088-4f67-8799-532dc976f9ac",
   "metadata": {},
   "outputs": [
    {
     "name": "stdout",
     "output_type": "stream",
     "text": [
      " Shape of X_train: (6587,)\n",
      " Shape of X_test: (1647,)\n",
      " Shape of y_train: (6587,)\n",
      " Shape of y_test: (1647,)\n"
     ]
    }
   ],
   "source": [
    "print(f\" Shape of X_train: {X_train.shape}\")\n",
    "\n",
    "print(f\" Shape of X_test: {X_test.shape}\")\n",
    "\n",
    "print(f\" Shape of y_train: {y_train.shape}\")\n",
    "\n",
    "print(f\" Shape of y_test: {y_test.shape}\")"
   ]
  },
  {
   "cell_type": "code",
   "execution_count": 41,
   "id": "9e63a5e5-c3cc-4f19-8e09-38ed227135a1",
   "metadata": {},
   "outputs": [
    {
     "data": {
      "text/plain": [
       "4975    ABC kettle boil water fast perfect tea instant...\n",
       "4337     DEF Portable Speaker amazing great sound quality\n",
       "8048    vitamin c serum oxidize fast like open affect ...\n",
       "6329    brand customer service terrible respond inquir...\n",
       "7382    air fryer crisps frozen fry quickly basket wip...\n",
       "Name: preprocessed_text, dtype: object"
      ]
     },
     "execution_count": 41,
     "metadata": {},
     "output_type": "execute_result"
    }
   ],
   "source": [
    "X_train.head()"
   ]
  },
  {
   "cell_type": "code",
   "execution_count": 42,
   "id": "3ffcbbcc-1102-4e4c-a408-a8ba1e663850",
   "metadata": {},
   "outputs": [
    {
     "data": {
      "text/plain": [
       "6265    get amazing new experience gift partner photog...\n",
       "6726    insulated lunch bag keep food cold day fit loo...\n",
       "676                                  angry   unacceptable\n",
       "4813                     ABC air freshener chemical smell\n",
       "1085    store disorganized difficult navigate   find look\n",
       "Name: preprocessed_text, dtype: object"
      ]
     },
     "execution_count": 42,
     "metadata": {},
     "output_type": "execute_result"
    }
   ],
   "source": [
    "X_test.head()"
   ]
  },
  {
   "cell_type": "code",
   "execution_count": 43,
   "id": "53e8527c-8c8b-45f0-9086-c2b0e5f6ca3b",
   "metadata": {},
   "outputs": [
    {
     "data": {
      "text/plain": [
       "4975    1\n",
       "4337    1\n",
       "8048   -1\n",
       "6329   -1\n",
       "7382    1\n",
       "Name: sentiment_label, dtype: int64"
      ]
     },
     "execution_count": 43,
     "metadata": {},
     "output_type": "execute_result"
    }
   ],
   "source": [
    "y_train.head()"
   ]
  },
  {
   "cell_type": "code",
   "execution_count": 44,
   "id": "77c5996b-7310-49b5-94a8-b6250d463d93",
   "metadata": {},
   "outputs": [
    {
     "data": {
      "text/plain": [
       "6265    1\n",
       "6726    1\n",
       "676    -1\n",
       "4813   -1\n",
       "1085   -1\n",
       "Name: sentiment_label, dtype: int64"
      ]
     },
     "execution_count": 44,
     "metadata": {},
     "output_type": "execute_result"
    }
   ],
   "source": [
    "y_test.head()"
   ]
  },
  {
   "cell_type": "markdown",
   "id": "4b738e83-f9a3-4b46-a183-f3b5e7484962",
   "metadata": {},
   "source": [
    "#### Logistic Regression"
   ]
  },
  {
   "cell_type": "code",
   "execution_count": 46,
   "id": "937989be-618a-4d7e-9810-dea04fc5873f",
   "metadata": {},
   "outputs": [
    {
     "name": "stdout",
     "output_type": "stream",
     "text": [
      "Fitting 5 folds for each of 12 candidates, totalling 60 fits\n",
      "Best params: {'tfidf__ngram_range': (1, 1), 'tfidf__max_features': 30000, 'clf__C': 2.0}\n",
      "Test accuracy: 0.918\n",
      "              precision    recall  f1-score   support\n",
      "\n",
      "          -1       0.96      0.91      0.93       533\n",
      "           0       0.89      0.88      0.89       492\n",
      "           1       0.91      0.96      0.93       622\n",
      "\n",
      "    accuracy                           0.92      1647\n",
      "   macro avg       0.92      0.91      0.92      1647\n",
      "weighted avg       0.92      0.92      0.92      1647\n",
      "\n"
     ]
    }
   ],
   "source": [
    "pipe = Pipeline(steps=[\n",
    "    (\"tfidf\", TfidfVectorizer(\n",
    "        ngram_range=(1,2),\n",
    "        min_df=3,\n",
    "        max_df=0.9,\n",
    "        max_features=60000,\n",
    "        sublinear_tf=True,\n",
    "        strip_accents=\"unicode\"\n",
    "    )),\n",
    "    (\"clf\", LogisticRegression(\n",
    "        max_iter=300,\n",
    "        class_weight=\"balanced\",   # helps with imbalance\n",
    "        n_jobs=-1,\n",
    "        solver=\"saga\"\n",
    "    ))\n",
    "])\n",
    "\n",
    "param_dist = {\n",
    "    \"tfidf__ngram_range\": [(1,1), (1,2)],\n",
    "    \"tfidf__max_features\": [30000, 60000, 90000],\n",
    "    \"clf__C\": [0.2, 0.5, 1.0, 2.0]\n",
    "}\n",
    "\n",
    "cv = StratifiedKFold(n_splits=5, shuffle=True, random_state=42)\n",
    "\n",
    "search = RandomizedSearchCV(\n",
    "    estimator=pipe,\n",
    "    param_distributions=param_dist,\n",
    "    n_iter=12,\n",
    "    scoring=\"f1_macro\",        # care about all classes\n",
    "    cv=cv,\n",
    "    n_jobs=-1,\n",
    "    verbose=1,\n",
    "    random_state=42\n",
    ")\n",
    "\n",
    "search.fit(X_train, y_train)\n",
    "\n",
    "print(\"Best params:\", search.best_params_)\n",
    "best_pipe = search.best_estimator_\n",
    "\n",
    "# 4) Evaluate on held-out test set\n",
    "y_pred = best_pipe.predict(X_test)\n",
    "print(\"Test accuracy:\", round(accuracy_score(y_test, y_pred), 4))\n",
    "print(classification_report(y_test, y_pred))"
   ]
  },
  {
   "cell_type": "markdown",
   "id": "c388d2f1-c693-4c7b-b59d-ae51992d7faa",
   "metadata": {},
   "source": [
    "#### Multinomial Naive Bayes"
   ]
  },
  {
   "cell_type": "code",
   "execution_count": 48,
   "id": "858866cf-28b2-4838-bb08-a7c639376f42",
   "metadata": {},
   "outputs": [
    {
     "name": "stdout",
     "output_type": "stream",
     "text": [
      "Fitting 5 folds for each of 12 candidates, totalling 60 fits\n",
      "NB Best params: {'tfidf__use_idf': True, 'tfidf__norm': 'l2', 'tfidf__ngram_range': (1, 2), 'tfidf__max_features': 90000, 'clf__alpha': 0.3}\n",
      "NB Test accuracy: 0.8871\n",
      "              precision    recall  f1-score   support\n",
      "\n",
      "          -1       0.97      0.84      0.90       533\n",
      "           0       0.88      0.84      0.86       492\n",
      "           1       0.83      0.97      0.90       622\n",
      "\n",
      "    accuracy                           0.89      1647\n",
      "   macro avg       0.90      0.88      0.89      1647\n",
      "weighted avg       0.89      0.89      0.89      1647\n",
      "\n"
     ]
    }
   ],
   "source": [
    "pipe_nb = Pipeline(steps=[\n",
    "    (\"tfidf\", TfidfVectorizer(\n",
    "        ngram_range=(1,2),\n",
    "        min_df=3,\n",
    "        max_df=0.9,\n",
    "        max_features=60000,\n",
    "        sublinear_tf=True,\n",
    "        strip_accents=\"unicode\"\n",
    "    )),\n",
    "    (\"clf\", MultinomialNB())\n",
    "])\n",
    "\n",
    "param_dist_nb = {\n",
    "    \"tfidf__ngram_range\": [(1,1), (1,2)],\n",
    "    \"tfidf__max_features\": [30000, 60000, 90000],\n",
    "    \"tfidf__use_idf\": [True, False],\n",
    "    \"tfidf__norm\": [\"l2\", \"l1\"],\n",
    "    \"clf__alpha\": [0.1, 0.3, 0.7, 1.0, 2.0]\n",
    "}\n",
    "\n",
    "cv = StratifiedKFold(n_splits=5, shuffle=True, random_state=42)\n",
    "\n",
    "search_nb = RandomizedSearchCV(\n",
    "    estimator=pipe_nb,\n",
    "    param_distributions=param_dist_nb,\n",
    "    n_iter=12,\n",
    "    scoring=\"f1_macro\",\n",
    "    cv=cv,\n",
    "    n_jobs=-1,\n",
    "    verbose=1,\n",
    "    random_state=42\n",
    ")\n",
    "\n",
    "search_nb.fit(X_train, y_train)\n",
    "\n",
    "print(\"NB Best params:\", search_nb.best_params_)\n",
    "best_nb = search_nb.best_estimator_\n",
    "\n",
    "y_pred_nb = best_nb.predict(X_test)\n",
    "print(\"NB Test accuracy:\", round(accuracy_score(y_test, y_pred_nb), 4))\n",
    "print(classification_report(y_test, y_pred_nb))"
   ]
  },
  {
   "cell_type": "markdown",
   "id": "df107355-27d1-452f-8240-a933d5c31b7d",
   "metadata": {},
   "source": [
    "#### Decision Tree Classifier"
   ]
  },
  {
   "cell_type": "code",
   "execution_count": 50,
   "id": "e98c1358-71dc-4748-b541-e25298b6fb1a",
   "metadata": {},
   "outputs": [
    {
     "name": "stdout",
     "output_type": "stream",
     "text": [
      "Fitting 5 folds for each of 20 candidates, totalling 100 fits\n"
     ]
    },
    {
     "name": "stderr",
     "output_type": "stream",
     "text": [
      "C:\\Users\\Azhar\\anaconda3\\Lib\\site-packages\\sklearn\\feature_selection\\_univariate_selection.py:783: UserWarning: k=20000 is greater than n_features=5235. All the features will be returned.\n",
      "  warnings.warn(\n"
     ]
    },
    {
     "name": "stdout",
     "output_type": "stream",
     "text": [
      "DT Best params: {'tfidf__ngram_range': (1, 2), 'tfidf__max_features': 60000, 'clf__min_samples_split': 2, 'clf__min_samples_leaf': 1, 'clf__max_features': None, 'clf__max_depth': 100, 'clf__criterion': 'gini', 'chi2__k': 20000}\n",
      "DT Test accuracy: 0.8537\n",
      "              precision    recall  f1-score   support\n",
      "\n",
      "          -1       0.91      0.83      0.87       533\n",
      "           0       0.86      0.81      0.83       492\n",
      "           1       0.81      0.91      0.86       622\n",
      "\n",
      "    accuracy                           0.85      1647\n",
      "   macro avg       0.86      0.85      0.85      1647\n",
      "weighted avg       0.86      0.85      0.85      1647\n",
      "\n"
     ]
    }
   ],
   "source": [
    "pipe_dt = Pipeline(steps=[\n",
    "    (\"tfidf\", TfidfVectorizer(\n",
    "        ngram_range=(1,2),\n",
    "        min_df=3,\n",
    "        max_df=0.9,\n",
    "        max_features=60000,\n",
    "        sublinear_tf=True,\n",
    "        strip_accents=\"unicode\"\n",
    "    )),\n",
    "    (\"chi2\", SelectKBest(score_func=chi2, k=30000)),  # reduce dimensionality for trees\n",
    "    (\"clf\", DecisionTreeClassifier(random_state=42, class_weight=\"balanced\"))\n",
    "])\n",
    "\n",
    "param_dist_dt = {\n",
    "    \"tfidf__ngram_range\": [(1,1), (1,2)],\n",
    "    \"tfidf__max_features\": [30000, 60000, 90000],\n",
    "    \"chi2__k\": [10000, 20000, 30000],\n",
    "    \"clf__criterion\": [\"gini\", \"entropy\"],\n",
    "    \"clf__max_depth\": [None, 20, 50, 100],\n",
    "    \"clf__min_samples_split\": [2, 5, 10, 20],\n",
    "    \"clf__min_samples_leaf\": [1, 2, 5, 10],\n",
    "    \"clf__max_features\": [None, \"sqrt\", \"log2\"]\n",
    "}\n",
    "\n",
    "cv = StratifiedKFold(n_splits=5, shuffle=True, random_state=42)\n",
    "\n",
    "search_dt = RandomizedSearchCV(\n",
    "    estimator=pipe_dt,\n",
    "    param_distributions=param_dist_dt,\n",
    "    n_iter=20,                 # a few more iters helps trees\n",
    "    scoring=\"f1_macro\",\n",
    "    cv=cv,\n",
    "    n_jobs=-1,\n",
    "    verbose=1,\n",
    "    random_state=42\n",
    ")\n",
    "\n",
    "search_dt.fit(X_train, y_train)\n",
    "\n",
    "print(\"DT Best params:\", search_dt.best_params_)\n",
    "best_dt = search_dt.best_estimator_\n",
    "\n",
    "y_pred_dt = best_dt.predict(X_test)\n",
    "print(\"DT Test accuracy:\", round(accuracy_score(y_test, y_pred_dt), 4))\n",
    "print(classification_report(y_test, y_pred_dt))"
   ]
  },
  {
   "cell_type": "markdown",
   "id": "d4769887-6475-4be4-b887-c892c8951219",
   "metadata": {},
   "source": [
    "Logistic Regression has performed the best so that model is chosen."
   ]
  },
  {
   "cell_type": "code",
   "execution_count": 52,
   "id": "a6a1f5a8-46b9-42fb-a140-368bc2f48760",
   "metadata": {},
   "outputs": [
    {
     "name": "stdout",
     "output_type": "stream",
     "text": [
      "Saved: sentiment_pipeline.joblib\n"
     ]
    }
   ],
   "source": [
    "# Save one file for your server\n",
    "joblib.dump(best_pipe, \"sentiment_pipeline.joblib\")\n",
    "print(\"Saved: sentiment_pipeline.joblib\")"
   ]
  }
 ],
 "metadata": {
  "kernelspec": {
   "display_name": "Python 3 (ipykernel)",
   "language": "python",
   "name": "python3"
  },
  "language_info": {
   "codemirror_mode": {
    "name": "ipython",
    "version": 3
   },
   "file_extension": ".py",
   "mimetype": "text/x-python",
   "name": "python",
   "nbconvert_exporter": "python",
   "pygments_lexer": "ipython3",
   "version": "3.12.4"
  }
 },
 "nbformat": 4,
 "nbformat_minor": 5
}
